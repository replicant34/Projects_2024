{
 "cells": [
  {
   "cell_type": "markdown",
   "id": "0e2df7bb-936e-4b9c-ba31-e3346f4bd7ec",
   "metadata": {},
   "source": [
    "In this notebook Im going to test how imeges are able to get compressed and how it affects accuracy. \n",
    "Compresing may affect quality of picture and get rid of details which may be impotrant for ML models to separate classes. For example digits 4 and 9 can be written in a similar way and only a few pixels will define correct class. And there are may be many similar cases where a specific pixel or just few of them cam affect ML model. However, compression itself may be very helpful for us if we want to increase sample size, because basically from one image we can create 4 images with lower quality. \n",
    "Additionaly we can apply ML model for each compressed image and compare results. Or even use those result for another model."
   ]
  },
  {
   "cell_type": "code",
   "execution_count": 1,
   "id": "cb648e16",
   "metadata": {},
   "outputs": [],
   "source": [
    "# General\n",
    "import warnings\n",
    "import numpy as np\n",
    "import pandas as pd\n",
    "import opendatasets as od\n",
    "\n",
    "# Visuals \n",
    "import seaborn as sns\n",
    "import matplotlib.pyplot as plt\n",
    "\n",
    "# Metrics\n",
    "from scipy.stats import skew\n",
    "from sklearn.metrics import accuracy_score\n",
    "from sklearn.metrics import mean_squared_error, mean_absolute_error, r2_score\n",
    "from sklearn.metrics import confusion_matrix, plot_roc_curve, plot_precision_recall_curve\n",
    "from sklearn.model_selection import learning_curve\n",
    "\n",
    "# Preparation\n",
    "from sklearn.decomposition import PCA\n",
    "from sklearn.impute import SimpleImputer\n",
    "from sklearn.preprocessing import LabelEncoder\n",
    "from sklearn.preprocessing import StandardScaler\n",
    "from sklearn.model_selection import train_test_split\n",
    "\n",
    "# ML models\n",
    "from sklearn.ensemble import GradientBoostingRegressor\n",
    "from sklearn.ensemble import GradientBoostingClassifier\n",
    "from sklearn.linear_model import LogisticRegression\n",
    "from sklearn.tree import DecisionTreeClassifier\n",
    "from sklearn.ensemble import RandomForestClassifier, GradientBoostingClassifier\n",
    "from sklearn.neighbors import KNeighborsClassifier\n",
    "from sklearn.neural_network import MLPClassifier\n",
    "warnings.filterwarnings(\"ignore\")\n",
    "from sklearn.neighbors import KNeighborsRegressor\n",
    "from sklearn.svm import SVC\n",
    "from sklearn.model_selection import GridSearchCV "
   ]
  },
  {
   "cell_type": "code",
   "execution_count": 9,
   "id": "259256c6",
   "metadata": {},
   "outputs": [],
   "source": [
    "df_train = pd.read_csv(\"train.csv\") # Shape (42000, 785)\n",
    "df_test_1 = pd.read_csv(\"test.csv\") # Shape (28000, 784)\n",
    "df_train_1 = df_train.drop(columns=['label'],axis = 1) # Shape (42000, 784)\n",
    "df_train_label = df_train['label'] # Shape (42000,)"
   ]
  },
  {
   "cell_type": "code",
   "execution_count": null,
   "id": "892f73fc",
   "metadata": {},
   "outputs": [],
   "source": [
    "## Compression train set\n",
    "### Reduce noise "
   ]
  },
  {
   "cell_type": "code",
   "execution_count": 10,
   "id": "181b301e",
   "metadata": {},
   "outputs": [],
   "source": [
    "df_train_1[df_train_1 < 91] = 0\n",
    "df_train_1[df_train_1 > 90] = 1"
   ]
  },
  {
   "cell_type": "code",
   "execution_count": null,
   "id": "c36d2ac4",
   "metadata": {},
   "outputs": [],
   "source": [
    "### Compress by sum 1"
   ]
  },
  {
   "cell_type": "code",
   "execution_count": 11,
   "id": "775d4274",
   "metadata": {},
   "outputs": [],
   "source": [
    "sum_columns = []\n",
    "for i in range(0, len(df_train_1.columns), 2):\n",
    "    sum_column = df_train_1.iloc[:, i] + df_train_1.iloc[:, i + 1]\n",
    "    sum_columns.append(sum_column)\n",
    "\n",
    "df_train_111 = pd.concat(sum_columns, axis=1) # Shape (42000, 392)"
   ]
  },
  {
   "cell_type": "code",
   "execution_count": null,
   "id": "6a73fffa",
   "metadata": {},
   "outputs": [],
   "source": [
    "### Compress by sum 2"
   ]
  },
  {
   "cell_type": "code",
   "execution_count": 14,
   "id": "3106e0f4",
   "metadata": {},
   "outputs": [],
   "source": [
    "sum_columns = []\n",
    "\n",
    "for i in range(0, len(df_train_111.columns) // 2):\n",
    "    sum_column = df_train_111.iloc[:, i] + df_train_111.iloc[:, i + len(df_train_111.columns) // 2]\n",
    "    sum_columns.append(sum_column)\n",
    "\n",
    "df_train_1111 = pd.concat(sum_columns, axis=1) # Shape (42000, 196)"
   ]
  },
  {
   "cell_type": "code",
   "execution_count": 66,
   "id": "11181012",
   "metadata": {},
   "outputs": [],
   "source": [
    "df_train_1111[df_train_1111 > 0] = 1"
   ]
  },
  {
   "cell_type": "code",
   "execution_count": 68,
   "id": "0bb9ab95",
   "metadata": {},
   "outputs": [],
   "source": [
    "df_train_1111_0 = pd.concat([df_train_1111, df_train_label], axis=1) # Shape (42000, 197)"
   ]
  },
  {
   "cell_type": "code",
   "execution_count": null,
   "id": "38227f61",
   "metadata": {},
   "outputs": [],
   "source": [
    "### Compress by cut 1_1"
   ]
  },
  {
   "cell_type": "code",
   "execution_count": 51,
   "id": "252d2e01",
   "metadata": {},
   "outputs": [],
   "source": [
    "df_train_121 = df_train_1.iloc[:, ::2] # Shape (42000, 392)\n",
    "df_train_122 = df_train_1.iloc[:, 1::2] # Shape (42000, 392)"
   ]
  },
  {
   "cell_type": "code",
   "execution_count": 45,
   "id": "5f69a422",
   "metadata": {},
   "outputs": [],
   "source": [
    "### Compress by cut 1_2"
   ]
  },
  {
   "cell_type": "code",
   "execution_count": 52,
   "id": "9f3ad177",
   "metadata": {},
   "outputs": [],
   "source": [
    "column_indexes_df1 = list(range(14)) + list(range(28, 42)) + list(range(56, 70)) + list(range(84, 98)) + list(range(112, 126))+ list(range(140, 154)) + list(range(168, 182)) + list(range(196, 210)) + list(range(224, 238)) + list(range(252, 266)) + list(range(280, 294)) + list(range(308, 322)) + list(range(336, 350)) + list(range(364, 378))# Column indexes for df1\n",
    "column_indexes_df2 = list(range(14, 28)) + list(range(42, 56)) + list(range(70, 84)) + list(range(98, 112)) + list(range(126, 140)) + list(range(154, 168)) + list(range(182, 196)) + list(range(210, 224)) + list(range(238, 252)) + list(range(266, 280)) + list(range(294, 308)) + list(range(322, 336)) + list(range(350, 364)) + list(range(378, 392)) # Column indexes for df2\n",
    "\n",
    "df_train_1211 = df_train_121.iloc[:, column_indexes_df1]\n",
    "df_train_1212 = df_train_121.iloc[:, column_indexes_df2]"
   ]
  },
  {
   "cell_type": "code",
   "execution_count": 57,
   "id": "eeaca566",
   "metadata": {},
   "outputs": [],
   "source": [
    "column_indexes_df1 = list(range(14)) + list(range(28, 42)) + list(range(56, 70)) + list(range(84, 98)) + list(range(112, 126))+ list(range(140, 154)) + list(range(168, 182)) + list(range(196, 210)) + list(range(224, 238)) + list(range(252, 266)) + list(range(280, 294)) + list(range(308, 322)) + list(range(336, 350)) + list(range(364, 378))# Column indexes for df1\n",
    "column_indexes_df2 = list(range(14, 28)) + list(range(42, 56)) + list(range(70, 84)) + list(range(98, 112)) + list(range(126, 140)) + list(range(154, 168)) + list(range(182, 196)) + list(range(210, 224)) + list(range(238, 252)) + list(range(266, 280)) + list(range(294, 308)) + list(range(322, 336)) + list(range(350, 364)) + list(range(378, 392)) # Column indexes for df2\n",
    "\n",
    "df_train_1221 = df_train_122.iloc[:, column_indexes_df1]\n",
    "df_train_1222 = df_train_122.iloc[:, column_indexes_df2]"
   ]
  },
  {
   "cell_type": "code",
   "execution_count": 113,
   "id": "9e96393c",
   "metadata": {},
   "outputs": [],
   "source": [
    "df_train_1211_0 = pd.concat([df_train_1211, df_train_label], axis=1)\n",
    "df_train_1212_0 = pd.concat([df_train_1212, df_train_label], axis=1)\n",
    "df_train_1221_0 = pd.concat([df_train_1221, df_train_label], axis=1)\n",
    "df_train_1222_0 = pd.concat([df_train_1222, df_train_label], axis=1)"
   ]
  },
  {
   "cell_type": "code",
   "execution_count": 123,
   "id": "286b4cb3",
   "metadata": {},
   "outputs": [],
   "source": [
    "df_train_1211_0.to_csv('df_train_1211.csv', index=False)\n",
    "df_train_1212_0.to_csv('df_train_1212.csv', index=False)\n",
    "df_train_1221_0.to_csv('df_train_1221.csv', index=False)\n",
    "df_train_1222_0.to_csv('df_train_1222.csv', index=False)\n",
    "df_train_1111_0.to_csv('df_train_1111.csv', index=False)"
   ]
  },
  {
   "cell_type": "code",
   "execution_count": 4,
   "id": "a548e864",
   "metadata": {},
   "outputs": [],
   "source": [
    "df_train_1211_0 = pd.read_csv(\"df_train_1211_3.csv\")  # Shape (42000, 197)\n",
    "df_train_1212_0 = pd.read_csv(\"df_train_1212_3.csv\") \n",
    "df_train_1221_0 = pd.read_csv(\"df_train_1221_3.csv\") \n",
    "df_train_1222_0 = pd.read_csv(\"df_train_1222_3.csv\") \n",
    "df_train_1111_0 = pd.read_csv(\"df_train_1111_3.csv\")"
   ]
  },
  {
   "cell_type": "code",
   "execution_count": 5,
   "id": "0355dac1",
   "metadata": {},
   "outputs": [],
   "source": [
    "df = pd.concat([df_train_1111_0, df_train_1211_0, df_train_1212_0, df_train_1221_0, df_train_1222_0], ignore_index=True)"
   ]
  },
  {
   "cell_type": "code",
   "execution_count": 67,
   "id": "054e4f5f",
   "metadata": {},
   "outputs": [
    {
     "data": {
      "text/plain": [
       "(42000, 197)"
      ]
     },
     "execution_count": 67,
     "metadata": {},
     "output_type": "execute_result"
    }
   ],
   "source": [
    "df_train_1222_0.shape"
   ]
  },
  {
   "cell_type": "markdown",
   "id": "9c218f2f",
   "metadata": {},
   "source": [
    "***"
   ]
  },
  {
   "cell_type": "code",
   "execution_count": null,
   "id": "771b7cb2",
   "metadata": {},
   "outputs": [],
   "source": []
  },
  {
   "cell_type": "code",
   "execution_count": 10,
   "id": "8c27dd84",
   "metadata": {},
   "outputs": [],
   "source": [
    "X = df.drop(columns=['label'],axis = 1)\n",
    "y = df['label']"
   ]
  },
  {
   "cell_type": "code",
   "execution_count": 11,
   "id": "1d8c81b1",
   "metadata": {},
   "outputs": [
    {
     "data": {
      "text/plain": [
       "(210000,)"
      ]
     },
     "execution_count": 11,
     "metadata": {},
     "output_type": "execute_result"
    }
   ],
   "source": [
    "y.shape"
   ]
  },
  {
   "cell_type": "code",
   "execution_count": 12,
   "id": "0463df22",
   "metadata": {},
   "outputs": [],
   "source": [
    "X_train, X_test, y_train, y_test = train_test_split(X, y, test_size=0.25, random_state=42)"
   ]
  },
  {
   "cell_type": "code",
   "execution_count": 13,
   "id": "8c1042b7",
   "metadata": {},
   "outputs": [],
   "source": [
    "log_model = LogisticRegression() # Logistic Regression\n",
    "dt_model = DecisionTreeClassifier() # Decision Tree\n",
    "rf_model = RandomForestClassifier() # Random Forest\n",
    "gb_model = GradientBoostingClassifier() # Gradient Boosting\n",
    "knn_model = KNeighborsClassifier() # k-Nearest Neighbors\n",
    "mlp_model = MLPClassifier() # Neural Network\n",
    "svc_model = SVC() # Support Vector Machine"
   ]
  },
  {
   "cell_type": "code",
   "execution_count": 14,
   "id": "4343f0cf",
   "metadata": {},
   "outputs": [],
   "source": [
    "accuracy_models = pd.DataFrame(columns=['Model', 'Training Accuracy', 'Testing Accuracy', 'Mean Squared Error', 'Mean Absolute Error' ])"
   ]
  },
  {
   "cell_type": "code",
   "execution_count": 15,
   "id": "98d56079",
   "metadata": {},
   "outputs": [],
   "source": [
    "log_model.fit(X_train, y_train)\n",
    "y_train_pred = log_model.predict(X_train)\n",
    "y_test_pred = log_model.predict(X_test)\n",
    "train_accuracy = accuracy_score(y_train, y_train_pred)\n",
    "test_accuracy = accuracy_score(y_test, y_test_pred)\n",
    "mse = mean_squared_error(y_test, y_test_pred)\n",
    "mae = mean_absolute_error(y_test, y_test_pred)\n",
    "accuracy_models = accuracy_models.append({'Model': 'Logistic Regression', 'Training Accuracy': train_accuracy, 'Testing Accuracy': test_accuracy, 'Mean Squared Error': mse, 'Mean Absolute Error': mae}, ignore_index=True)\n",
    "confusion_log_model = confusion_matrix(y_test, y_test_pred)"
   ]
  },
  {
   "cell_type": "code",
   "execution_count": 16,
   "id": "5536f2a3",
   "metadata": {},
   "outputs": [],
   "source": [
    "dt_model.fit(X_train, y_train)\n",
    "y_train_pred = dt_model.predict(X_train)\n",
    "y_test_pred = dt_model.predict(X_test)\n",
    "train_accuracy = accuracy_score(y_train, y_train_pred)\n",
    "test_accuracy = accuracy_score(y_test, y_test_pred)\n",
    "mse = mean_squared_error(y_test, y_test_pred)\n",
    "mae = mean_absolute_error(y_test, y_test_pred)\n",
    "accuracy_models = accuracy_models.append({'Model': 'Decision Tree', 'Training Accuracy': train_accuracy, 'Testing Accuracy': test_accuracy, 'Mean Squared Error': mse, 'Mean Absolute Error': mae}, ignore_index=True)\n",
    "confusion_dt_model = confusion_matrix(y_test, y_test_pred)"
   ]
  },
  {
   "cell_type": "code",
   "execution_count": 17,
   "id": "0ceef005",
   "metadata": {},
   "outputs": [],
   "source": [
    "rf_model.fit(X_train, y_train)\n",
    "y_train_pred = rf_model.predict(X_train)\n",
    "y_test_pred = rf_model.predict(X_test)\n",
    "train_accuracy = accuracy_score(y_train, y_train_pred)\n",
    "test_accuracy = accuracy_score(y_test, y_test_pred)\n",
    "mse = mean_squared_error(y_test, y_test_pred)\n",
    "mae = mean_absolute_error(y_test, y_test_pred)\n",
    "accuracy_models = accuracy_models.append({'Model': 'Random Forest', 'Training Accuracy': train_accuracy, 'Testing Accuracy': test_accuracy, 'Mean Squared Error': mse, 'Mean Absolute Error': mae}, ignore_index=True)\n",
    "confusion_rf_model = confusion_matrix(y_test, y_test_pred)"
   ]
  },
  {
   "cell_type": "code",
   "execution_count": 164,
   "id": "eb2f2bc0",
   "metadata": {
    "collapsed": true,
    "jupyter": {
     "outputs_hidden": true
    }
   },
   "outputs": [
    {
     "ename": "KeyboardInterrupt",
     "evalue": "",
     "output_type": "error",
     "traceback": [
      "\u001b[0;31m---------------------------------------------------------------------------\u001b[0m",
      "\u001b[0;31mKeyboardInterrupt\u001b[0m                         Traceback (most recent call last)",
      "\u001b[0;32m/var/folders/xv/rzvgqjxn6p91h8mbll11tgzw0000gn/T/ipykernel_43272/4290364244.py\u001b[0m in \u001b[0;36m<module>\u001b[0;34m\u001b[0m\n\u001b[1;32m      1\u001b[0m \u001b[0mknn_model\u001b[0m\u001b[0;34m.\u001b[0m\u001b[0mfit\u001b[0m\u001b[0;34m(\u001b[0m\u001b[0mX_train\u001b[0m\u001b[0;34m,\u001b[0m \u001b[0my_train\u001b[0m\u001b[0;34m)\u001b[0m\u001b[0;34m\u001b[0m\u001b[0;34m\u001b[0m\u001b[0m\n\u001b[0;32m----> 2\u001b[0;31m \u001b[0my_train_pred\u001b[0m \u001b[0;34m=\u001b[0m \u001b[0mknn_model\u001b[0m\u001b[0;34m.\u001b[0m\u001b[0mpredict\u001b[0m\u001b[0;34m(\u001b[0m\u001b[0mX_train\u001b[0m\u001b[0;34m)\u001b[0m\u001b[0;34m\u001b[0m\u001b[0;34m\u001b[0m\u001b[0m\n\u001b[0m\u001b[1;32m      3\u001b[0m \u001b[0my_test_pred\u001b[0m \u001b[0;34m=\u001b[0m \u001b[0mknn_model\u001b[0m\u001b[0;34m.\u001b[0m\u001b[0mpredict\u001b[0m\u001b[0;34m(\u001b[0m\u001b[0mX_test\u001b[0m\u001b[0;34m)\u001b[0m\u001b[0;34m\u001b[0m\u001b[0;34m\u001b[0m\u001b[0m\n\u001b[1;32m      4\u001b[0m \u001b[0mtrain_accuracy\u001b[0m \u001b[0;34m=\u001b[0m \u001b[0maccuracy_score\u001b[0m\u001b[0;34m(\u001b[0m\u001b[0my_train\u001b[0m\u001b[0;34m,\u001b[0m \u001b[0my_train_pred\u001b[0m\u001b[0;34m)\u001b[0m\u001b[0;34m\u001b[0m\u001b[0;34m\u001b[0m\u001b[0m\n\u001b[1;32m      5\u001b[0m \u001b[0mtest_accuracy\u001b[0m \u001b[0;34m=\u001b[0m \u001b[0maccuracy_score\u001b[0m\u001b[0;34m(\u001b[0m\u001b[0my_test\u001b[0m\u001b[0;34m,\u001b[0m \u001b[0my_test_pred\u001b[0m\u001b[0;34m)\u001b[0m\u001b[0;34m\u001b[0m\u001b[0;34m\u001b[0m\u001b[0m\n",
      "\u001b[0;32m/opt/anaconda3/lib/python3.9/site-packages/sklearn/neighbors/_classification.py\u001b[0m in \u001b[0;36mpredict\u001b[0;34m(self, X)\u001b[0m\n\u001b[1;32m    212\u001b[0m             \u001b[0mClass\u001b[0m \u001b[0mlabels\u001b[0m \u001b[0;32mfor\u001b[0m \u001b[0meach\u001b[0m \u001b[0mdata\u001b[0m \u001b[0msample\u001b[0m\u001b[0;34m.\u001b[0m\u001b[0;34m\u001b[0m\u001b[0;34m\u001b[0m\u001b[0m\n\u001b[1;32m    213\u001b[0m         \"\"\"\n\u001b[0;32m--> 214\u001b[0;31m         \u001b[0mneigh_dist\u001b[0m\u001b[0;34m,\u001b[0m \u001b[0mneigh_ind\u001b[0m \u001b[0;34m=\u001b[0m \u001b[0mself\u001b[0m\u001b[0;34m.\u001b[0m\u001b[0mkneighbors\u001b[0m\u001b[0;34m(\u001b[0m\u001b[0mX\u001b[0m\u001b[0;34m)\u001b[0m\u001b[0;34m\u001b[0m\u001b[0;34m\u001b[0m\u001b[0m\n\u001b[0m\u001b[1;32m    215\u001b[0m         \u001b[0mclasses_\u001b[0m \u001b[0;34m=\u001b[0m \u001b[0mself\u001b[0m\u001b[0;34m.\u001b[0m\u001b[0mclasses_\u001b[0m\u001b[0;34m\u001b[0m\u001b[0;34m\u001b[0m\u001b[0m\n\u001b[1;32m    216\u001b[0m         \u001b[0m_y\u001b[0m \u001b[0;34m=\u001b[0m \u001b[0mself\u001b[0m\u001b[0;34m.\u001b[0m\u001b[0m_y\u001b[0m\u001b[0;34m\u001b[0m\u001b[0;34m\u001b[0m\u001b[0m\n",
      "\u001b[0;32m/opt/anaconda3/lib/python3.9/site-packages/sklearn/neighbors/_base.py\u001b[0m in \u001b[0;36mkneighbors\u001b[0;34m(self, X, n_neighbors, return_distance)\u001b[0m\n\u001b[1;32m    750\u001b[0m                 \u001b[0mkwds\u001b[0m \u001b[0;34m=\u001b[0m \u001b[0mself\u001b[0m\u001b[0;34m.\u001b[0m\u001b[0meffective_metric_params_\u001b[0m\u001b[0;34m\u001b[0m\u001b[0;34m\u001b[0m\u001b[0m\n\u001b[1;32m    751\u001b[0m \u001b[0;34m\u001b[0m\u001b[0m\n\u001b[0;32m--> 752\u001b[0;31m             chunked_results = list(\n\u001b[0m\u001b[1;32m    753\u001b[0m                 pairwise_distances_chunked(\n\u001b[1;32m    754\u001b[0m                     \u001b[0mX\u001b[0m\u001b[0;34m,\u001b[0m\u001b[0;34m\u001b[0m\u001b[0;34m\u001b[0m\u001b[0m\n",
      "\u001b[0;32m/opt/anaconda3/lib/python3.9/site-packages/sklearn/metrics/pairwise.py\u001b[0m in \u001b[0;36mpairwise_distances_chunked\u001b[0;34m(X, Y, reduce_func, metric, n_jobs, working_memory, **kwds)\u001b[0m\n\u001b[1;32m   1724\u001b[0m         \u001b[0;32mif\u001b[0m \u001b[0mreduce_func\u001b[0m \u001b[0;32mis\u001b[0m \u001b[0;32mnot\u001b[0m \u001b[0;32mNone\u001b[0m\u001b[0;34m:\u001b[0m\u001b[0;34m\u001b[0m\u001b[0;34m\u001b[0m\u001b[0m\n\u001b[1;32m   1725\u001b[0m             \u001b[0mchunk_size\u001b[0m \u001b[0;34m=\u001b[0m \u001b[0mD_chunk\u001b[0m\u001b[0;34m.\u001b[0m\u001b[0mshape\u001b[0m\u001b[0;34m[\u001b[0m\u001b[0;36m0\u001b[0m\u001b[0;34m]\u001b[0m\u001b[0;34m\u001b[0m\u001b[0;34m\u001b[0m\u001b[0m\n\u001b[0;32m-> 1726\u001b[0;31m             \u001b[0mD_chunk\u001b[0m \u001b[0;34m=\u001b[0m \u001b[0mreduce_func\u001b[0m\u001b[0;34m(\u001b[0m\u001b[0mD_chunk\u001b[0m\u001b[0;34m,\u001b[0m \u001b[0msl\u001b[0m\u001b[0;34m.\u001b[0m\u001b[0mstart\u001b[0m\u001b[0;34m)\u001b[0m\u001b[0;34m\u001b[0m\u001b[0;34m\u001b[0m\u001b[0m\n\u001b[0m\u001b[1;32m   1727\u001b[0m             \u001b[0m_check_chunk_size\u001b[0m\u001b[0;34m(\u001b[0m\u001b[0mD_chunk\u001b[0m\u001b[0;34m,\u001b[0m \u001b[0mchunk_size\u001b[0m\u001b[0;34m)\u001b[0m\u001b[0;34m\u001b[0m\u001b[0;34m\u001b[0m\u001b[0m\n\u001b[1;32m   1728\u001b[0m         \u001b[0;32myield\u001b[0m \u001b[0mD_chunk\u001b[0m\u001b[0;34m\u001b[0m\u001b[0;34m\u001b[0m\u001b[0m\n",
      "\u001b[0;32m/opt/anaconda3/lib/python3.9/site-packages/sklearn/neighbors/_base.py\u001b[0m in \u001b[0;36m_kneighbors_reduce_func\u001b[0;34m(self, dist, start, n_neighbors, return_distance)\u001b[0m\n\u001b[1;32m    632\u001b[0m         \"\"\"\n\u001b[1;32m    633\u001b[0m         \u001b[0msample_range\u001b[0m \u001b[0;34m=\u001b[0m \u001b[0mnp\u001b[0m\u001b[0;34m.\u001b[0m\u001b[0marange\u001b[0m\u001b[0;34m(\u001b[0m\u001b[0mdist\u001b[0m\u001b[0;34m.\u001b[0m\u001b[0mshape\u001b[0m\u001b[0;34m[\u001b[0m\u001b[0;36m0\u001b[0m\u001b[0;34m]\u001b[0m\u001b[0;34m)\u001b[0m\u001b[0;34m[\u001b[0m\u001b[0;34m:\u001b[0m\u001b[0;34m,\u001b[0m \u001b[0;32mNone\u001b[0m\u001b[0;34m]\u001b[0m\u001b[0;34m\u001b[0m\u001b[0;34m\u001b[0m\u001b[0m\n\u001b[0;32m--> 634\u001b[0;31m         \u001b[0mneigh_ind\u001b[0m \u001b[0;34m=\u001b[0m \u001b[0mnp\u001b[0m\u001b[0;34m.\u001b[0m\u001b[0margpartition\u001b[0m\u001b[0;34m(\u001b[0m\u001b[0mdist\u001b[0m\u001b[0;34m,\u001b[0m \u001b[0mn_neighbors\u001b[0m \u001b[0;34m-\u001b[0m \u001b[0;36m1\u001b[0m\u001b[0;34m,\u001b[0m \u001b[0maxis\u001b[0m\u001b[0;34m=\u001b[0m\u001b[0;36m1\u001b[0m\u001b[0;34m)\u001b[0m\u001b[0;34m\u001b[0m\u001b[0;34m\u001b[0m\u001b[0m\n\u001b[0m\u001b[1;32m    635\u001b[0m         \u001b[0mneigh_ind\u001b[0m \u001b[0;34m=\u001b[0m \u001b[0mneigh_ind\u001b[0m\u001b[0;34m[\u001b[0m\u001b[0;34m:\u001b[0m\u001b[0;34m,\u001b[0m \u001b[0;34m:\u001b[0m\u001b[0mn_neighbors\u001b[0m\u001b[0;34m]\u001b[0m\u001b[0;34m\u001b[0m\u001b[0;34m\u001b[0m\u001b[0m\n\u001b[1;32m    636\u001b[0m         \u001b[0;31m# argpartition doesn't guarantee sorted order, so we sort again\u001b[0m\u001b[0;34m\u001b[0m\u001b[0;34m\u001b[0m\u001b[0m\n",
      "\u001b[0;32m/opt/anaconda3/lib/python3.9/site-packages/numpy/core/overrides.py\u001b[0m in \u001b[0;36margpartition\u001b[0;34m(*args, **kwargs)\u001b[0m\n",
      "\u001b[0;32m/opt/anaconda3/lib/python3.9/site-packages/numpy/core/fromnumeric.py\u001b[0m in \u001b[0;36margpartition\u001b[0;34m(a, kth, axis, kind, order)\u001b[0m\n\u001b[1;32m    869\u001b[0m \u001b[0;34m\u001b[0m\u001b[0m\n\u001b[1;32m    870\u001b[0m     \"\"\"\n\u001b[0;32m--> 871\u001b[0;31m     \u001b[0;32mreturn\u001b[0m \u001b[0m_wrapfunc\u001b[0m\u001b[0;34m(\u001b[0m\u001b[0ma\u001b[0m\u001b[0;34m,\u001b[0m \u001b[0;34m'argpartition'\u001b[0m\u001b[0;34m,\u001b[0m \u001b[0mkth\u001b[0m\u001b[0;34m,\u001b[0m \u001b[0maxis\u001b[0m\u001b[0;34m=\u001b[0m\u001b[0maxis\u001b[0m\u001b[0;34m,\u001b[0m \u001b[0mkind\u001b[0m\u001b[0;34m=\u001b[0m\u001b[0mkind\u001b[0m\u001b[0;34m,\u001b[0m \u001b[0morder\u001b[0m\u001b[0;34m=\u001b[0m\u001b[0morder\u001b[0m\u001b[0;34m)\u001b[0m\u001b[0;34m\u001b[0m\u001b[0;34m\u001b[0m\u001b[0m\n\u001b[0m\u001b[1;32m    872\u001b[0m \u001b[0;34m\u001b[0m\u001b[0m\n\u001b[1;32m    873\u001b[0m \u001b[0;34m\u001b[0m\u001b[0m\n",
      "\u001b[0;32m/opt/anaconda3/lib/python3.9/site-packages/numpy/core/fromnumeric.py\u001b[0m in \u001b[0;36m_wrapfunc\u001b[0;34m(obj, method, *args, **kwds)\u001b[0m\n\u001b[1;32m     55\u001b[0m \u001b[0;34m\u001b[0m\u001b[0m\n\u001b[1;32m     56\u001b[0m     \u001b[0;32mtry\u001b[0m\u001b[0;34m:\u001b[0m\u001b[0;34m\u001b[0m\u001b[0;34m\u001b[0m\u001b[0m\n\u001b[0;32m---> 57\u001b[0;31m         \u001b[0;32mreturn\u001b[0m \u001b[0mbound\u001b[0m\u001b[0;34m(\u001b[0m\u001b[0;34m*\u001b[0m\u001b[0margs\u001b[0m\u001b[0;34m,\u001b[0m \u001b[0;34m**\u001b[0m\u001b[0mkwds\u001b[0m\u001b[0;34m)\u001b[0m\u001b[0;34m\u001b[0m\u001b[0;34m\u001b[0m\u001b[0m\n\u001b[0m\u001b[1;32m     58\u001b[0m     \u001b[0;32mexcept\u001b[0m \u001b[0mTypeError\u001b[0m\u001b[0;34m:\u001b[0m\u001b[0;34m\u001b[0m\u001b[0;34m\u001b[0m\u001b[0m\n\u001b[1;32m     59\u001b[0m         \u001b[0;31m# A TypeError occurs if the object does have such a method in its\u001b[0m\u001b[0;34m\u001b[0m\u001b[0;34m\u001b[0m\u001b[0m\n",
      "\u001b[0;31mKeyboardInterrupt\u001b[0m: "
     ]
    }
   ],
   "source": [
    "knn_model.fit(X_train, y_train)\n",
    "y_train_pred = knn_model.predict(X_train)\n",
    "y_test_pred = knn_model.predict(X_test)\n",
    "train_accuracy = accuracy_score(y_train, y_train_pred)\n",
    "test_accuracy = accuracy_score(y_test, y_test_pred)\n",
    "mse = mean_squared_error(y_test, y_test_pred)\n",
    "mae = mean_absolute_error(y_test, y_test_pred)\n",
    "accuracy_models = accuracy_models.append({'Model': 'k-Nearest Neighbors', 'Training Accuracy': train_accuracy, 'Testing Accuracy': test_accuracy, 'Mean Squared Error': mse, 'Mean Absolute Error': mae}, ignore_index=True)\n",
    "confusion_knn_model = confusion_matrix(y_test, y_test_pred)"
   ]
  },
  {
   "cell_type": "code",
   "execution_count": 29,
   "id": "cd387be9",
   "metadata": {},
   "outputs": [],
   "source": [
    "mlp_model.fit(X_train, y_train)\n",
    "y_train_pred = mlp_model.predict(X_train)\n",
    "y_test_pred = mlp_model.predict(X_test)\n",
    "train_accuracy = accuracy_score(y_train, y_train_pred)\n",
    "test_accuracy = accuracy_score(y_test, y_test_pred)\n",
    "mse = mean_squared_error(y_test, y_test_pred)\n",
    "mae = mean_absolute_error(y_test, y_test_pred)\n",
    "accuracy_models = accuracy_models.append({'Model': 'Neural Network', 'Training Accuracy': train_accuracy, 'Testing Accuracy': test_accuracy, 'Mean Squared Error': mse, 'Mean Absolute Error': mae}, ignore_index=True)\n",
    "confusion_mlp_model = confusion_matrix(y_test, y_test_pred)"
   ]
  },
  {
   "cell_type": "code",
   "execution_count": null,
   "id": "e6a5cc94",
   "metadata": {},
   "outputs": [],
   "source": [
    "svc_model.fit(X_train, y_train)\n",
    "y_train_pred = svc_model.predict(X_train)\n",
    "y_test_pred = svc_model.predict(X_test)\n",
    "train_accuracy = accuracy_score(y_train, y_train_pred)\n",
    "test_accuracy = accuracy_score(y_test, y_test_pred)\n",
    "mse = mean_squared_error(y_test, y_test_pred)\n",
    "mae = mean_absolute_error(y_test, y_test_pred)\n",
    "accuracy_models = accuracy_models.append({'Model': 'Support Vector Machine', 'Training Accuracy': train_accuracy, 'Testing Accuracy': test_accuracy, 'Mean Squared Error': mse, 'Mean Absolute Error': mae}, ignore_index=True)\n",
    "confusion_svc_model = confusion_matrix(y_test, y_test_pred) "
   ]
  },
  {
   "cell_type": "code",
   "execution_count": 18,
   "id": "5605101a",
   "metadata": {},
   "outputs": [
    {
     "name": "stdout",
     "output_type": "stream",
     "text": [
      "Confusion Matrix for Logistic Regression:\n",
      "[[4676    2   69   46   66   93  141   20   45   21]\n",
      " [   1 5400   81   38   20   14   46   61  124   19]\n",
      " [  99  159 3842  131  158   72  184  226  257   90]\n",
      " [  35  123  254 3897   85  326   99  230  199  190]\n",
      " [  91   65   84  134 3677  111  208   91   92  562]\n",
      " [ 118   82   84  381  196 3141  218  125  223  124]\n",
      " [ 143   80  125   80  183  176 4145   32  184   33]\n",
      " [  54  159  163  121  140   47   23 4450   57  278]\n",
      " [  57  241  181  309   63  247  162   59 3552  229]\n",
      " [  58   82   85  188  411   89   31  320  151 3866]]\n",
      "\n",
      "Confusion Matrix for Decision Tree:\n",
      "[[4765    6   47   34   36   75   87   19   68   42]\n",
      " [   2 5559   39   36   23   23   20   29   48   25]\n",
      " [  47   49 4349  155  100   62   88  137  154   77]\n",
      " [  38   42  141 4466   48  294   49   95  165  100]\n",
      " [  35   32   75   34 4262   75   79   90   63  370]\n",
      " [  81   50   69  261   62 3733  127   54  152  103]\n",
      " [  83   35   78   29   98  114 4556   14  139   35]\n",
      " [  25   53  132   65   71   32   16 4866   45  187]\n",
      " [  61   75  145  181   97  141  133   72 4013  182]\n",
      " [  41   21   73  114  331   95   35  189  114 4268]]\n",
      "\n",
      "Confusion Matrix for Random Forest:\n",
      "[[5105    1    8    4    3    3   21    2   25    7]\n",
      " [   1 5715   22   16    6    5    6   11   16    6]\n",
      " [  21   11 5000   25   17    5   24   66   41    8]\n",
      " [   8   12   74 5145    3   73    7   44   44   28]\n",
      " [  12   14    4    3 4864    2   25   17   15  159]\n",
      " [  26    6   11   85   14 4438   43    6   35   28]\n",
      " [  36    9    8    2   13   22 5077    1   12    1]\n",
      " [   9   28   60   13   32    1    1 5240   13   95]\n",
      " [  15   25   39   72   18   46   21    8 4792   64]\n",
      " [  25    5   11   53   87   29    5   45   55 4966]]\n",
      "\n"
     ]
    }
   ],
   "source": [
    "model_names = ['Logistic Regression', 'Decision Tree', 'Random Forest']\n",
    "confusion_matrices = [confusion_log_model, confusion_dt_model, confusion_rf_model]\n",
    "\n",
    "confusion_matrices_with_names = zip(model_names, confusion_matrices)\n",
    "\n",
    "for model_name, confusion in confusion_matrices_with_names:\n",
    "    print(f\"Confusion Matrix for {model_name}:\")\n",
    "    print(confusion)\n",
    "    print()"
   ]
  },
  {
   "cell_type": "code",
   "execution_count": 19,
   "id": "bf9ab0d9",
   "metadata": {
    "collapsed": true,
    "jupyter": {
     "outputs_hidden": true
    }
   },
   "outputs": [
    {
     "data": {
      "image/png": "[encoded data removed]",
      "text/plain": [
       "<Figure size 1000x600 with 1 Axes>"
      ]
     },
     "metadata": {},
     "output_type": "display_data"
    }
   ],
   "source": [
    "plt.figure(figsize=(10, 6))\n",
    "plt.plot(accuracy_models['Model'], accuracy_models['Training Accuracy'], marker='o', linestyle='-', color='red', label='Training')\n",
    "plt.plot(accuracy_models['Model'], accuracy_models['Testing Accuracy'], marker='o', linestyle='-', color='blue', label='Testing')\n",
    "plt.ylabel('Accuracy', fontsize=12)\n",
    "plt.title('Models Accuracy Training vs Testing', fontsize=18)\n",
    "plt.xticks(rotation=45, fontsize=10) \n",
    "plt.yticks(fontsize=10) \n",
    "plt.legend(fontsize=10) \n",
    "plt.grid(True)\n",
    "plt.tight_layout()\n",
    "plt.show()"
   ]
  },
  {
   "cell_type": "markdown",
   "id": "cdeee46f",
   "metadata": {},
   "source": [
    "## Split test set"
   ]
  },
  {
   "cell_type": "markdown",
   "id": "85d431dc",
   "metadata": {},
   "source": [
    "### Outliers"
   ]
  },
  {
   "cell_type": "code",
   "execution_count": 20,
   "id": "59ac1386",
   "metadata": {},
   "outputs": [],
   "source": [
    "df_test_1[df_test_1 < 91] = 0\n",
    "df_test_1[df_test_1 > 90] = 1"
   ]
  },
  {
   "cell_type": "markdown",
   "id": "fcd728ee",
   "metadata": {},
   "source": [
    "##### Split by sum 1"
   ]
  },
  {
   "cell_type": "code",
   "execution_count": 21,
   "id": "489fec4c",
   "metadata": {},
   "outputs": [],
   "source": [
    "sum_columns = []\n",
    "for i in range(0, len(df_test_1.columns), 2):\n",
    "    sum_column = df_test_1.iloc[:, i] + df_test_1.iloc[:, i + 1]\n",
    "    sum_columns.append(sum_column)\n",
    "\n",
    "df_test_111 = pd.concat(sum_columns, axis=1)"
   ]
  },
  {
   "cell_type": "markdown",
   "id": "cbce9f7b",
   "metadata": {},
   "source": [
    "##### Split by sum 2"
   ]
  },
  {
   "cell_type": "code",
   "execution_count": 22,
   "id": "d5d625c2",
   "metadata": {},
   "outputs": [],
   "source": [
    "sum_columns = []\n",
    "\n",
    "for i in range(0, len(df_test_111.columns) // 2):\n",
    "    sum_column = df_test_111.iloc[:, i] + df_test_111.iloc[:, i + len(df_test_111.columns) // 2]\n",
    "    sum_columns.append(sum_column)\n",
    "\n",
    "df_test_1111 = pd.concat(sum_columns, axis=1) "
   ]
  },
  {
   "cell_type": "code",
   "execution_count": 24,
   "id": "1c9c4dc2",
   "metadata": {},
   "outputs": [],
   "source": [
    "df_test_1111[df_test_1111 > 0] = 1"
   ]
  },
  {
   "cell_type": "markdown",
   "id": "9f53defb",
   "metadata": {},
   "source": [
    "##### split by cut 1"
   ]
  },
  {
   "cell_type": "code",
   "execution_count": 32,
   "id": "4c0c09a3",
   "metadata": {},
   "outputs": [],
   "source": [
    "df_test_121 = df_test_1.iloc[:, ::2] # Shape (42000, 392)\n",
    "df_test_122 = df_test_1.iloc[:, 1::2]"
   ]
  },
  {
   "cell_type": "markdown",
   "id": "ca39cb81",
   "metadata": {},
   "source": [
    "##### Split by cut 1.1"
   ]
  },
  {
   "cell_type": "code",
   "execution_count": 33,
   "id": "ec66ccd8",
   "metadata": {},
   "outputs": [],
   "source": [
    "column_indexes_df1 = list(range(14)) + list(range(28, 42)) + list(range(56, 70)) + list(range(84, 98)) + list(range(112, 126))+ list(range(140, 154)) + list(range(168, 182)) + list(range(196, 210)) + list(range(224, 238)) + list(range(252, 266)) + list(range(280, 294)) + list(range(308, 322)) + list(range(336, 350)) + list(range(364, 378))# Column indexes for df1\n",
    "column_indexes_df2 = list(range(14, 28)) + list(range(42, 56)) + list(range(70, 84)) + list(range(98, 112)) + list(range(126, 140)) + list(range(154, 168)) + list(range(182, 196)) + list(range(210, 224)) + list(range(238, 252)) + list(range(266, 280)) + list(range(294, 308)) + list(range(322, 336)) + list(range(350, 364)) + list(range(378, 392)) # Column indexes for df2\n",
    "\n",
    "df_test_1211 = df_test_121.iloc[:, column_indexes_df1]\n",
    "df_test_1212 = df_test_121.iloc[:, column_indexes_df2]"
   ]
  },
  {
   "cell_type": "markdown",
   "id": "2eac61eb",
   "metadata": {},
   "source": [
    "##### Split by cut 1.2"
   ]
  },
  {
   "cell_type": "code",
   "execution_count": 34,
   "id": "bae153a9",
   "metadata": {},
   "outputs": [],
   "source": [
    "column_indexes_df1 = list(range(14)) + list(range(28, 42)) + list(range(56, 70)) + list(range(84, 98)) + list(range(112, 126))+ list(range(140, 154)) + list(range(168, 182)) + list(range(196, 210)) + list(range(224, 238)) + list(range(252, 266)) + list(range(280, 294)) + list(range(308, 322)) + list(range(336, 350)) + list(range(364, 378))# Column indexes for df1\n",
    "column_indexes_df2 = list(range(14, 28)) + list(range(42, 56)) + list(range(70, 84)) + list(range(98, 112)) + list(range(126, 140)) + list(range(154, 168)) + list(range(182, 196)) + list(range(210, 224)) + list(range(238, 252)) + list(range(266, 280)) + list(range(294, 308)) + list(range(322, 336)) + list(range(350, 364)) + list(range(378, 392)) # Column indexes for df2\n",
    "\n",
    "df_test_1221 = df_test_122.iloc[:, column_indexes_df1]\n",
    "df_test_1222 = df_test_122.iloc[:, column_indexes_df2]"
   ]
  },
  {
   "cell_type": "markdown",
   "id": "d479b3ca",
   "metadata": {},
   "source": [
    "##### Check, remove headers"
   ]
  },
  {
   "cell_type": "code",
   "execution_count": 43,
   "id": "f2bda6fa",
   "metadata": {},
   "outputs": [],
   "source": [
    "df_test_1211.to_csv('df_test_1211.csv', index=False)\n",
    "df_test_1212.to_csv('df_test_1212.csv', index=False)\n",
    "df_test_1221.to_csv('df_test_1221.csv', index=False)\n",
    "df_test_1222.to_csv('df_test_1222.csv', index=False)\n",
    "df_test_1111.to_csv('df_test_1111.csv', index=False)"
   ]
  },
  {
   "cell_type": "code",
   "execution_count": 44,
   "id": "07c5c789",
   "metadata": {},
   "outputs": [],
   "source": [
    "df_test_1211_1 = pd.read_csv(\"df_test_1211_1.csv\") \n",
    "df_test_1212_1 = pd.read_csv(\"df_test_1212_1.csv\") \n",
    "df_test_1221_1 = pd.read_csv(\"df_test_1221_1.csv\") \n",
    "df_test_1222_1 = pd.read_csv(\"df_test_1222_1.csv\") \n",
    "df_test_1111_1 = pd.read_csv(\"df_test_1111_1.csv\")"
   ]
  },
  {
   "cell_type": "code",
   "execution_count": 46,
   "id": "a73d0871",
   "metadata": {},
   "outputs": [],
   "source": [
    "predicted_df_test_1211_1 = rf_model.predict(df_test_1211_1)"
   ]
  },
  {
   "cell_type": "code",
   "execution_count": 47,
   "id": "df09939f",
   "metadata": {},
   "outputs": [],
   "source": [
    "predicted_df_test_1212_1 = rf_model.predict(df_test_1212_1)"
   ]
  },
  {
   "cell_type": "code",
   "execution_count": 48,
   "id": "6287a32d",
   "metadata": {},
   "outputs": [],
   "source": [
    "predicted_df_test_1221_1 = rf_model.predict(df_test_1221_1)"
   ]
  },
  {
   "cell_type": "code",
   "execution_count": 49,
   "id": "f432090a",
   "metadata": {},
   "outputs": [],
   "source": [
    "predicted_df_test_1222_1 = rf_model.predict(df_test_1222_1)"
   ]
  },
  {
   "cell_type": "code",
   "execution_count": 50,
   "id": "1b29bfb6",
   "metadata": {},
   "outputs": [],
   "source": [
    "predicted_df_test_1111_1 = rf_model.predict(df_test_1111_1)"
   ]
  },
  {
   "cell_type": "code",
   "execution_count": 53,
   "id": "3f72796f",
   "metadata": {},
   "outputs": [],
   "source": [
    "df_test_1211_1['Label'] = predicted_df_test_1211_1"
   ]
  },
  {
   "cell_type": "code",
   "execution_count": 56,
   "id": "7d03cacd",
   "metadata": {},
   "outputs": [],
   "source": [
    "df_test_1212_1['Label'] = predicted_df_test_1212_1"
   ]
  },
  {
   "cell_type": "code",
   "execution_count": 57,
   "id": "571ed040",
   "metadata": {},
   "outputs": [],
   "source": [
    "df_test_1221_1['Label'] = predicted_df_test_1221_1"
   ]
  },
  {
   "cell_type": "code",
   "execution_count": 58,
   "id": "5c8e59e7",
   "metadata": {},
   "outputs": [],
   "source": [
    "df_test_1222_1['Label'] = predicted_df_test_1222_1"
   ]
  },
  {
   "cell_type": "code",
   "execution_count": 59,
   "id": "49ff7c17",
   "metadata": {},
   "outputs": [],
   "source": [
    "df_test_1111_1['Label'] = predicted_df_test_1111_1"
   ]
  },
  {
   "cell_type": "code",
   "execution_count": 60,
   "id": "a793f9b1",
   "metadata": {},
   "outputs": [],
   "source": [
    "df_pred_test_1211 = df_test_1211_1['Label']\n",
    "df_pred_test_1212 = df_test_1212_1['Label']\n",
    "df_pred_test_1221 = df_test_1221_1['Label']\n",
    "df_pred_test_1222 = df_test_1222_1['Label']\n",
    "df_pred_test_1111 = df_test_1111_1['Label']"
   ]
  },
  {
   "cell_type": "code",
   "execution_count": 62,
   "id": "aa43132e",
   "metadata": {},
   "outputs": [],
   "source": [
    "df_pred_all = pd.concat([df_pred_test_1211, df_pred_test_1212, df_pred_test_1221, df_pred_test_1222, df_pred_test_1111], axis=1)"
   ]
  },
  {
   "cell_type": "code",
   "execution_count": 63,
   "id": "5bf78010",
   "metadata": {},
   "outputs": [
    {
     "data": {
      "text/html": [
       "<div>\n",
       "<style scoped>\n",
       "    .dataframe tbody tr th:only-of-type {\n",
       "        vertical-align: middle;\n",
       "    }\n",
       "\n",
       "    .dataframe tbody tr th {\n",
       "        vertical-align: top;\n",
       "    }\n",
       "\n",
       "    .dataframe thead th {\n",
       "        text-align: right;\n",
       "    }\n",
       "</style>\n",
       "<table border=\"1\" class=\"dataframe\">\n",
       "  <thead>\n",
       "    <tr style=\"text-align: right;\">\n",
       "      <th></th>\n",
       "      <th>Label</th>\n",
       "      <th>Label</th>\n",
       "      <th>Label</th>\n",
       "      <th>Label</th>\n",
       "      <th>Label</th>\n",
       "    </tr>\n",
       "  </thead>\n",
       "  <tbody>\n",
       "    <tr>\n",
       "      <th>0</th>\n",
       "      <td>2</td>\n",
       "      <td>2</td>\n",
       "      <td>2</td>\n",
       "      <td>2</td>\n",
       "      <td>2</td>\n",
       "    </tr>\n",
       "    <tr>\n",
       "      <th>1</th>\n",
       "      <td>0</td>\n",
       "      <td>0</td>\n",
       "      <td>0</td>\n",
       "      <td>0</td>\n",
       "      <td>0</td>\n",
       "    </tr>\n",
       "    <tr>\n",
       "      <th>2</th>\n",
       "      <td>9</td>\n",
       "      <td>9</td>\n",
       "      <td>9</td>\n",
       "      <td>9</td>\n",
       "      <td>9</td>\n",
       "    </tr>\n",
       "    <tr>\n",
       "      <th>3</th>\n",
       "      <td>9</td>\n",
       "      <td>9</td>\n",
       "      <td>9</td>\n",
       "      <td>9</td>\n",
       "      <td>9</td>\n",
       "    </tr>\n",
       "    <tr>\n",
       "      <th>4</th>\n",
       "      <td>3</td>\n",
       "      <td>2</td>\n",
       "      <td>3</td>\n",
       "      <td>3</td>\n",
       "      <td>3</td>\n",
       "    </tr>\n",
       "  </tbody>\n",
       "</table>\n",
       "</div>"
      ],
      "text/plain": [
       "   Label  Label  Label  Label  Label\n",
       "0      2      2      2      2      2\n",
       "1      0      0      0      0      0\n",
       "2      9      9      9      9      9\n",
       "3      9      9      9      9      9\n",
       "4      3      2      3      3      3"
      ]
     },
     "execution_count": 63,
     "metadata": {},
     "output_type": "execute_result"
    }
   ],
   "source": [
    "df_pred_all.head()"
   ]
  },
  {
   "cell_type": "code",
   "execution_count": null,
   "id": "223de3f7",
   "metadata": {},
   "outputs": [],
   "source": []
  },
  {
   "cell_type": "code",
   "execution_count": 65,
   "id": "64e852e1",
   "metadata": {},
   "outputs": [],
   "source": [
    "df_pred_all.to_csv('df_pred_all2.csv', index=False)"
   ]
  },
  {
   "cell_type": "code",
   "execution_count": null,
   "id": "3505415f",
   "metadata": {},
   "outputs": [],
   "source": []
  },
  {
   "cell_type": "code",
   "execution_count": null,
   "id": "83c74af9",
   "metadata": {},
   "outputs": [],
   "source": []
  },
  {
   "cell_type": "code",
   "execution_count": 41,
   "id": "ad0d1890",
   "metadata": {},
   "outputs": [],
   "source": [
    "predicted_df_test_merged = pd.concat([df_test_1111, df_test_1211, df_test_1212, df_test_1221, df_test_1222], ignore_index=True)"
   ]
  },
  {
   "cell_type": "code",
   "execution_count": null,
   "id": "4761b6a0",
   "metadata": {},
   "outputs": [],
   "source": [
    "predicted_values = svc_model.predict(df_test)\n",
    "\n",
    "df_test1['Label'] = predicted_values"
   ]
  },
  {
   "cell_type": "code",
   "execution_count": 19,
   "id": "cf485390",
   "metadata": {},
   "outputs": [],
   "source": [
    "df_train_1111_0.to_csv('compress_test13.csv', index=False)"
   ]
  }
 ],
 "metadata": {
  "kernelspec": {
   "display_name": "Python 3 (ipykernel)",
   "language": "python",
   "name": "python3"
  },
  "language_info": {
   "codemirror_mode": {
    "name": "ipython",
    "version": 3
   },
   "file_extension": ".py",
   "mimetype": "text/x-python",
   "name": "python",
   "nbconvert_exporter": "python",
   "pygments_lexer": "ipython3",
   "version": "3.9.19"
  }
 },
 "nbformat": 4,
 "nbformat_minor": 5
}
