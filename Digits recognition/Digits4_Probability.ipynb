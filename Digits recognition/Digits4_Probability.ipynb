{
 "cells": [
  {
   "cell_type": "code",
   "execution_count": 1,
   "id": "24f0ba3e",
   "metadata": {},
   "outputs": [],
   "source": [
    "import pandas as pd\n",
    "from sklearn.model_selection import train_test_split\n",
    "from sklearn.ensemble import RandomForestClassifier"
   ]
  },
  {
   "cell_type": "code",
   "execution_count": 7,
   "id": "b60e49b0",
   "metadata": {},
   "outputs": [],
   "source": [
    "df_train = pd.read_csv(\"train.csv\") # Shape (42000, 785)\n",
    "df_test_1 = pd.read_csv(\"test.csv\") \n",
    "df_train_1 = df_train.drop(columns=['label'],axis = 1)\n",
    "df_train_label = df_train['label'] "
   ]
  },
  {
   "cell_type": "code",
   "execution_count": 5,
   "id": "32ad7eeb-1c25-48be-b96d-7fd60462ba26",
   "metadata": {},
   "outputs": [
    {
     "name": "stdout",
     "output_type": "stream",
     "text": [
      "   pixel0  pixel1  pixel2  pixel3  pixel4  pixel5  pixel6  pixel7  pixel8  \\\n",
      "0     0.0     0.0     0.0     0.0     0.0     0.0     0.0     0.0     0.0   \n",
      "1     0.0     0.0     0.0     0.0     0.0     0.0     0.0     0.0     0.0   \n",
      "2     0.0     0.0     0.0     0.0     0.0     0.0     0.0     0.0     0.0   \n",
      "3     0.0     0.0     0.0     0.0     0.0     0.0     0.0     0.0     0.0   \n",
      "4     0.0     0.0     0.0     0.0     0.0     0.0     0.0     0.0     0.0   \n",
      "\n",
      "   pixel9  ...  class_0  class_1  class_2  class_3  class_4  class_5  class_6  \\\n",
      "0     0.0  ...     0.00     0.01     0.96     0.02     0.00     0.00     0.01   \n",
      "1     0.0  ...     0.97     0.00     0.01     0.00     0.00     0.01     0.00   \n",
      "2     0.0  ...     0.01     0.01     0.00     0.01     0.12     0.05     0.04   \n",
      "3     0.0  ...     0.06     0.00     0.16     0.01     0.19     0.08     0.08   \n",
      "4     0.0  ...     0.01     0.02     0.25     0.46     0.00     0.06     0.02   \n",
      "\n",
      "   class_7  class_8  class_9  \n",
      "0     0.00     0.00     0.00  \n",
      "1     0.00     0.00     0.01  \n",
      "2     0.07     0.06     0.63  \n",
      "3     0.18     0.04     0.20  \n",
      "4     0.01     0.15     0.02  \n",
      "\n",
      "[5 rows x 794 columns]\n"
     ]
    }
   ],
   "source": [
    "X = df_train_1\n",
    "y = df_train_label\n",
    "\n",
    "X_train, X_test, y_train, y_test = train_test_split(X, y, test_size=0.2, random_state=42)\n",
    "\n",
    "model = RandomForestClassifier(random_state=42)\n",
    "model.fit(X_train, y_train)\n",
    "\n",
    "proba = model.predict_proba(df_test_1)\n",
    "\n",
    "proba_df = pd.DataFrame(proba, columns=[f'class_{i}' for i in range(proba.shape[1])])\n",
    "\n",
    "result_df = pd.concat([X_test.reset_index(drop=True), proba_df], axis=1)\n",
    "\n",
    "print(result_df.head())"
   ]
  },
  {
   "cell_type": "code",
   "execution_count": 6,
   "id": "b2daf8a1-ef6d-4dbe-b781-c39beb61bf32",
   "metadata": {},
   "outputs": [
    {
     "name": "stdout",
     "output_type": "stream",
     "text": [
      "   pixel0  pixel1  pixel2  pixel3  pixel4  pixel5  pixel6  pixel7  pixel8  \\\n",
      "0     0.0     0.0     0.0     0.0     0.0     0.0     0.0     0.0     0.0   \n",
      "1     0.0     0.0     0.0     0.0     0.0     0.0     0.0     0.0     0.0   \n",
      "2     0.0     0.0     0.0     0.0     0.0     0.0     0.0     0.0     0.0   \n",
      "3     0.0     0.0     0.0     0.0     0.0     0.0     0.0     0.0     0.0   \n",
      "4     0.0     0.0     0.0     0.0     0.0     0.0     0.0     0.0     0.0   \n",
      "\n",
      "   pixel9  ...  class_1  class_2  class_3  class_4  class_5  class_6  class_7  \\\n",
      "0     0.0  ...     0.01     0.96     0.02     0.00     0.00     0.01     0.00   \n",
      "1     0.0  ...     0.00     0.01     0.00     0.00     0.01     0.00     0.00   \n",
      "2     0.0  ...     0.01     0.00     0.01     0.12     0.05     0.04     0.07   \n",
      "3     0.0  ...     0.00     0.16     0.01     0.19     0.08     0.08     0.18   \n",
      "4     0.0  ...     0.02     0.25     0.46     0.00     0.06     0.02     0.01   \n",
      "\n",
      "   class_8  class_9  predicted_class  \n",
      "0     0.00     0.00          class_2  \n",
      "1     0.00     0.01          class_0  \n",
      "2     0.06     0.63          class_9  \n",
      "3     0.04     0.20          class_9  \n",
      "4     0.15     0.02          class_3  \n",
      "\n",
      "[5 rows x 795 columns]\n"
     ]
    }
   ],
   "source": [
    "X = df_train_1\n",
    "y = df_train_label\n",
    "\n",
    "X_train, X_test, y_train, y_test = train_test_split(X, y, test_size=0.2, random_state=42)\n",
    "\n",
    "model = RandomForestClassifier(random_state=42)\n",
    "model.fit(X_train, y_train)\n",
    "\n",
    "proba = model.predict_proba(df_test_1)\n",
    "\n",
    "proba_df = pd.DataFrame(proba, columns=[f'class_{i}' for i in range(proba.shape[1])])\n",
    "\n",
    "predicted_classes = proba_df.idxmax(axis=1)\n",
    "\n",
    "proba_df['predicted_class'] = predicted_classes\n",
    "\n",
    "result_df = pd.concat([X_test.reset_index(drop=True), proba_df], axis=1)\n",
    "\n",
    "\n",
    "print(result_df.head())"
   ]
  },
  {
   "cell_type": "code",
   "execution_count": null,
   "id": "5009fd57-d79d-4bee-b4e6-33b468e21028",
   "metadata": {},
   "outputs": [],
   "source": []
  }
 ],
 "metadata": {
  "kernelspec": {
   "display_name": "Python 3 (ipykernel)",
   "language": "python",
   "name": "python3"
  },
  "language_info": {
   "codemirror_mode": {
    "name": "ipython",
    "version": 3
   },
   "file_extension": ".py",
   "mimetype": "text/x-python",
   "name": "python",
   "nbconvert_exporter": "python",
   "pygments_lexer": "ipython3",
   "version": "3.9.19"
  }
 },
 "nbformat": 4,
 "nbformat_minor": 5
}
